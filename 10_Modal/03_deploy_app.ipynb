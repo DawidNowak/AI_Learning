{
 "cells": [
  {
   "cell_type": "code",
   "execution_count": 1,
   "metadata": {},
   "outputs": [],
   "source": [
    "import os\n",
    "\n",
    "# Change to the 10_Modal directory\n",
    "os.chdir(\"10_Modal\")\n",
    "\n",
    "os.environ['PYTHONIOENCODING'] = 'utf-8'\n",
    "\n",
    "# So it can find the joke_service module\n",
    "import joke_service"
   ]
  },
  {
   "cell_type": "code",
   "execution_count": null,
   "metadata": {},
   "outputs": [],
   "source": [
    "!modal deploy -m joke_service"
   ]
  },
  {
   "cell_type": "code",
   "execution_count": 3,
   "metadata": {},
   "outputs": [],
   "source": [
    "import modal\n",
    "\n",
    "# Get the function.\n",
    "# 'joke-service' is the name of the app in joke_service.py\n",
    "# 'generate' is the name of the function in the joke_service.py\n",
    "\n",
    "joker = modal.Function.from_name(\"joke-service\", \"generate\")"
   ]
  },
  {
   "cell_type": "code",
   "execution_count": 4,
   "metadata": {},
   "outputs": [
    {
     "data": {
      "text/plain": [
       "\"<|begin_of_text|>Tell a lighthearted joke about programmers. I'll start.\\nA programmer is like a cowgirl. She's a little bit country and a little bit code.\\nI've been trying to think of a joke that would be funny to programmers and non-programmers alike. The best I can come\""
      ]
     },
     "execution_count": 4,
     "metadata": {},
     "output_type": "execute_result"
    }
   ],
   "source": [
    "joker.remote()"
   ]
  }
 ],
 "metadata": {
  "kernelspec": {
   "display_name": "Python 3 (ipykernel)",
   "language": "python",
   "name": "python3"
  },
  "language_info": {
   "codemirror_mode": {
    "name": "ipython",
    "version": 3
   },
   "file_extension": ".py",
   "mimetype": "text/x-python",
   "name": "python",
   "nbconvert_exporter": "python",
   "pygments_lexer": "ipython3",
   "version": "3.11.11"
  }
 },
 "nbformat": 4,
 "nbformat_minor": 2
}
