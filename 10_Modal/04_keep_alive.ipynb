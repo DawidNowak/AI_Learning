{
 "cells": [
  {
   "cell_type": "markdown",
   "metadata": {},
   "source": [
    "## Keep model up and running\n",
    "\n",
    "python_expert.py has wake_up function that can be called periodically.  \n",
    "This way Modal won't stop the app.  \n",
    "Run keep_alive.py script in terminal to call wake_up every 30 seconds."
   ]
  },
  {
   "cell_type": "code",
   "execution_count": null,
   "metadata": {},
   "outputs": [],
   "source": [
    "import os\n",
    "import modal\n",
    "\n",
    "# Change to the 10_Modal directory\n",
    "os.chdir(\"10_Modal\")\n",
    "\n",
    "os.environ['PYTHONIOENCODING'] = 'utf-8'\n",
    "\n",
    "# So it can find the python_expert module\n",
    "import python_expert"
   ]
  },
  {
   "cell_type": "code",
   "execution_count": null,
   "metadata": {},
   "outputs": [],
   "source": [
    "!modal deploy -m python_expert"
   ]
  },
  {
   "cell_type": "code",
   "execution_count": 33,
   "metadata": {},
   "outputs": [
    {
     "name": "stderr",
     "output_type": "stream",
     "text": [
      "C:\\Users\\nowak\\anaconda3\\envs\\ai\\Lib\\asyncio\\events.py:84: DeprecationError: 2025-01-27: `modal.Cls.lookup` is deprecated and will be removed in a future release. It can be replaced with `modal.Cls.from_name`.\n",
      "\n",
      "See https://modal.com/docs/guide/modal-1-0-migration for more information.\n",
      "  self._context.run(self._callback, *self._args)\n"
     ]
    },
    {
     "data": {
      "text/plain": [
       "'Please explain what does this python code do and why. Keep your response simple and concise. The code to explain: \\n\\n[sum(map(int, str(i))) for i in range(10, 20)]\\n\\n\\nMy Response: \\n\\nThe code to explain: \\n\\n[sum(map(int, str(i))) for i in range(10, 20)]\\n\\n\\nThe code is using the built-in map function to convert each integer in the range from 10 to 19 into a string, and then use the built-in sum function to sum up the integers in the resulting list. The resulting list is then converted back into a string using the built-in join function.\\n\\nThe code is equivalent to the following:\\n\\nsum([int(i) for i in str(i) for i in range(10, 20)])\\n'"
      ]
     },
     "execution_count": 33,
     "metadata": {},
     "output_type": "execute_result"
    }
   ],
   "source": [
    "Expert = modal.Cls.lookup(\"python-expert\", \"Expert\")\n",
    "expert = Expert()\n",
    "reply = expert.explain.remote(\"[sum(map(int, str(i))) for i in range(10, 20)]\")\n",
    "reply"
   ]
  },
  {
   "cell_type": "code",
   "execution_count": null,
   "metadata": {},
   "outputs": [],
   "source": []
  }
 ],
 "metadata": {
  "kernelspec": {
   "display_name": "Python 3 (ipykernel)",
   "language": "python",
   "name": "python3"
  },
  "language_info": {
   "codemirror_mode": {
    "name": "ipython",
    "version": 3
   },
   "file_extension": ".py",
   "mimetype": "text/x-python",
   "name": "python",
   "nbconvert_exporter": "python",
   "pygments_lexer": "ipython3",
   "version": "3.11.11"
  }
 },
 "nbformat": 4,
 "nbformat_minor": 2
}
