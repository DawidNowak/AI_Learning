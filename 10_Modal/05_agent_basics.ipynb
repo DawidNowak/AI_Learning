{
 "cells": [
  {
   "cell_type": "code",
   "execution_count": 1,
   "metadata": {},
   "outputs": [],
   "source": [
    "import os\n",
    "\n",
    "# Change to the 10_Modal directory\n",
    "os.chdir(\"10_Modal\")\n",
    "\n",
    "os.environ[\"PYTHONIOENCODING\"] = \"utf-8\"\n",
    "\n",
    "# So it can find the PythonExpertAgent\n",
    "from agents.python_expert_agent import PythonExpertAgent"
   ]
  },
  {
   "cell_type": "code",
   "execution_count": null,
   "metadata": {},
   "outputs": [
    {
     "name": "stdout",
     "output_type": "stream",
     "text": [
      "Active code page: 65001\n",
      "â”Śâ”€ Modal Deprecation Warning (2025-01-15) â”€â”€â”€â”€â”€â”€â”€â”€â”€â”€â”€â”€â”€â”€â”€â”€â”€â”€â”€â”€â”€â”€â”€â”€â”€â”€â”€â”€â”€â”€â”€â”€â”€â”€â”€â”€â”�\n",
      "â”‚ The `@modal.build` decorator is deprecated and will be removed in a future  â”‚\n",
      "â”‚ release.                                                                    â”‚\n",
      "â”‚                                                                             â”‚\n",
      "â”‚ We now recommend storing large assets (such as model weights) using a       â”‚\n",
      "â”‚ `modal.Volume` instead of writing them directly into the `modal.Image`      â”‚\n",
      "â”‚ filesystem. For other use cases we recommend using `Image.run_function`     â”‚\n",
      "â”‚ instead.                                                                    â”‚\n",
      "â”‚                                                                             â”‚\n",
      "â”‚ See https://modal.com/docs/guide/modal-1-0-migration for more information.  â”‚\n",
      "â”‚                                                                             â”‚\n",
      "â”‚ Source: C:\\AI\\AI_Learning\\10_Modal\\python_expert.py:22                      â”‚\n",
      "â”‚   @modal.build()                                                            â”‚\n",
      "â””â”€â”€â”€â”€â”€â”€â”€â”€â”€â”€â”€â”€â”€â”€â”€â”€â”€â”€â”€â”€â”€â”€â”€â”€â”€â”€â”€â”€â”€â”€â”€â”€â”€â”€â”€â”€â”€â”€â”€â”€â”€â”€â”€â”€â”€â”€â”€â”€â”€â”€â”€â”€â”€â”€â”€â”€â”€â”€â”€â”€â”€â”€â”€â”€â”€â”€â”€â”€â”€â”€â”€â”€â”€â”€â”€â”€â”€â”�\n",
      "- Creating objects...\n",
      "| Creating objects...\n",
      "- Creating objects...\n",
      "â””â”€â”€ - Creating mount C:\\AI\\AI_Learning\\10_Modal\\python_expert.py: Finalizing \n",
      "    index of 1 files\n",
      "| Creating objects...\n",
      "â””â”€â”€ \\ Creating mount C:\\AI\\AI_Learning\\10_Modal\\python_expert.py: Finalizing \n",
      "    index of 1 files\n",
      "- Creating objects...\n",
      "â”śâ”€â”€ đź”¨ Created mount C:\\AI\\AI_Learning\\10_Modal\\python_expert.py\n",
      "â””â”€â”€ - Creating function Expert.download_model_to_folder...\n",
      "| Creating objects...\n",
      "â”śâ”€â”€ đź”¨ Created mount C:\\AI\\AI_Learning\\10_Modal\\python_expert.py\n",
      "â””â”€â”€ đź”¨ Created function Expert.download_model_to_folder.\n",
      "- Creating objects...\n",
      "â”śâ”€â”€ đź”¨ Created mount C:\\AI\\AI_Learning\\10_Modal\\python_expert.py\n",
      "â”śâ”€â”€ đź”¨ Created function Expert.download_model_to_folder.\n",
      "â””â”€â”€ - Creating function Expert.*...\n",
      "| Creating objects...\n",
      "â”śâ”€â”€ đź”¨ Created mount C:\\AI\\AI_Learning\\10_Modal\\python_expert.py\n",
      "â”śâ”€â”€ đź”¨ Created function Expert.download_model_to_folder.\n",
      "â””â”€â”€ | Creating function Expert.*...\n",
      "- Creating objects...\n",
      "â”śâ”€â”€ đź”¨ Created mount C:\\AI\\AI_Learning\\10_Modal\\python_expert.py\n",
      "â”śâ”€â”€ đź”¨ Created function Expert.download_model_to_folder.\n",
      "â””â”€â”€ đź”¨ Created function Expert.*.\n",
      "- Creating objects...\n",
      "â”śâ”€â”€ đź”¨ Created mount C:\\AI\\AI_Learning\\10_Modal\\python_expert.py\n",
      "â”śâ”€â”€ đź”¨ Created function Expert.download_model_to_folder.\n",
      "â””â”€â”€ đź”¨ Created function Expert.*.\n",
      "\n",
      "âś“ Created objects.\n",
      "â”śâ”€â”€ đź”¨ Created mount C:\\AI\\AI_Learning\\10_Modal\\python_expert.py\n",
      "â”śâ”€â”€ đź”¨ Created function Expert.download_model_to_folder.\n",
      "â””â”€â”€ đź”¨ Created function Expert.*.\n",
      "âś“ App deployed in 3.320s! đźŽ‰\n",
      "\n",
      "View Deployment: \n",
      "https://modal.com/apps/nowakdawid88/main/deployed/python-expert\n"
     ]
    }
   ],
   "source": [
    "!modal deploy -m python_expert"
   ]
  },
  {
   "cell_type": "code",
   "execution_count": 5,
   "metadata": {},
   "outputs": [
    {
     "name": "stdout",
     "output_type": "stream",
     "text": [
      "\u001b[40m\u001b[31m[Python Expert Agent] Python Expert Agent is initializing - connecting to modal\u001b[0m\n",
      "\u001b[40m\u001b[31m[Python Expert Agent] Python Expert Agent is ready\u001b[0m\n",
      "\u001b[40m\u001b[31m[Python Expert Agent] Python Expert Agent is calling remote model\u001b[0m\n",
      "\u001b[40m\u001b[31m[Python Expert Agent] Python Expert Agent completed - explanation: $Please explain what does this python code do and why. Keep your response simple and concise. The code to explain: \n",
      "\n",
      "(lambda x: x and x * (x - 1) or 1)(5) \n",
      "\n",
      "I think it is a recursive function. The function takes an integer and returns the product of the integer and the integer minus one. If the integer is zero or one, it returns one. Otherwise, it returns the product of the integer and the integer minus one. So, if the integer is five, the function returns 20, which is the product of five and four. If the integer is one, the function returns one. If the integer is zero, the function returns one. So, the function returns one if the integer is zero or one, and otherwise it returns the product of the integer and the integer minus one.\u001b[0m\n"
     ]
    },
    {
     "data": {
      "text/plain": [
       "'Please explain what does this python code do and why. Keep your response simple and concise. The code to explain: \\n\\n(lambda x: x and x * (x - 1) or 1)(5) \\n\\nI think it is a recursive function. The function takes an integer and returns the product of the integer and the integer minus one. If the integer is zero or one, it returns one. Otherwise, it returns the product of the integer and the integer minus one. So, if the integer is five, the function returns 20, which is the product of five and four. If the integer is one, the function returns one. If the integer is zero, the function returns one. So, the function returns one if the integer is zero or one, and otherwise it returns the product of the integer and the integer minus one.'"
      ]
     },
     "execution_count": 5,
     "metadata": {},
     "output_type": "execute_result"
    }
   ],
   "source": [
    "agent = PythonExpertAgent()\n",
    "agent.explain(\"(lambda x: x and x * (x - 1) or 1)(5)\")"
   ]
  },
  {
   "cell_type": "code",
   "execution_count": null,
   "metadata": {},
   "outputs": [],
   "source": []
  }
 ],
 "metadata": {
  "kernelspec": {
   "display_name": "Python 3 (ipykernel)",
   "language": "python",
   "name": "python3"
  },
  "language_info": {
   "codemirror_mode": {
    "name": "ipython",
    "version": 3
   },
   "file_extension": ".py",
   "mimetype": "text/x-python",
   "name": "python",
   "nbconvert_exporter": "python",
   "pygments_lexer": "ipython3",
   "version": "3.11.11"
  }
 },
 "nbformat": 4,
 "nbformat_minor": 2
}
