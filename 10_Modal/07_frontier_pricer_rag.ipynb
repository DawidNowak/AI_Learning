{
 "cells": [
  {
   "cell_type": "code",
   "execution_count": null,
   "metadata": {},
   "outputs": [],
   "source": [
    "import os\n",
    "from dotenv import load_dotenv\n",
    "\n",
    "# Change to the 10_Modal directory\n",
    "os.chdir(\"10_Modal\")\n",
    "\n",
    "os.environ[\"PYTHONIOENCODING\"] = \"utf-8\"\n",
    "\n",
    "load_dotenv(override=True)"
   ]
  },
  {
   "cell_type": "code",
   "execution_count": 2,
   "metadata": {},
   "outputs": [],
   "source": [
    "from openai import OpenAI\n",
    "\n",
    "openai = OpenAI()"
   ]
  },
  {
   "cell_type": "code",
   "execution_count": 4,
   "metadata": {},
   "outputs": [],
   "source": [
    "import pickle\n",
    "\n",
    "with open('test_lite.pkl', 'rb') as file:\n",
    "    test = pickle.load(file)"
   ]
  },
  {
   "cell_type": "code",
   "execution_count": 5,
   "metadata": {},
   "outputs": [],
   "source": [
    "def make_context(similars, prices):\n",
    "    message = \"To provide some context, here are some other items that might be similar to the item you need to estimate.\\n\\n\"\n",
    "    for similar, price in zip(similars, prices):\n",
    "        message += f\"Potentially related product:\\n{similar}\\nPrice is ${price:.2f}\\n\\n\"\n",
    "    return message"
   ]
  },
  {
   "cell_type": "code",
   "execution_count": 6,
   "metadata": {},
   "outputs": [],
   "source": [
    "def messages_for(item, similars, prices):\n",
    "    system_message = \"You estimate prices of items. Reply only with the price, no explanation\"\n",
    "    user_prompt = make_context(similars, prices)\n",
    "    user_prompt += \"And now the question for you:\\n\\n\"\n",
    "    user_prompt += item.test_prompt().replace(\" to the nearest dollar\",\"\").replace(\"\\n\\nPrice is $\",\"\")\n",
    "    return [\n",
    "        {\"role\": \"system\", \"content\": system_message},\n",
    "        {\"role\": \"user\", \"content\": user_prompt},\n",
    "        {\"role\": \"assistant\", \"content\": \"Price is $\"}\n",
    "    ]"
   ]
  },
  {
   "cell_type": "code",
   "execution_count": 7,
   "metadata": {},
   "outputs": [],
   "source": [
    "import chromadb\n",
    "\n",
    "DB = \"products_vectorstore\"\n",
    "\n",
    "client = chromadb.PersistentClient(path=DB)\n",
    "collection = client.get_or_create_collection('products')"
   ]
  },
  {
   "cell_type": "code",
   "execution_count": 8,
   "metadata": {},
   "outputs": [],
   "source": [
    "def description(item):\n",
    "    text = item.prompt.replace(\"How much does this cost to the nearest dollar?\\n\\n\", \"\")\n",
    "    return text.split(\"\\n\\nPrice is $\")[0]"
   ]
  },
  {
   "cell_type": "code",
   "execution_count": 9,
   "metadata": {},
   "outputs": [
    {
     "data": {
      "text/plain": [
       "'Dale Tiffany Poelking Blue Lily Table Lamp, 12 x 12 x 22.75\\nOur Poleking series of table lamps is an easy way to add unique color and charm to any room of your home. This 2 light lily lamp features two elegant lily blossoms in shimmery pink art glass. Each of the 5 panels on each shade feature fluid, graceful edges that faithfully recreate 2 delicate lily blossoms. The shades hang from 2 gracefully curved stems flowing from an intricately carved metal base, which is finished dark antique bronze. A perfect choice for a boudoir or powder room, this charming lamp is will provide your family with years of beautiful, reliable lighting. Dual Light Lily Lamp featuring two elegant lilies in shimmery blue'"
      ]
     },
     "execution_count": 9,
     "metadata": {},
     "output_type": "execute_result"
    }
   ],
   "source": [
    "description(test[0])"
   ]
  },
  {
   "cell_type": "code",
   "execution_count": 10,
   "metadata": {},
   "outputs": [],
   "source": [
    "from sentence_transformers import SentenceTransformer\n",
    "\n",
    "model = SentenceTransformer('sentence-transformers/all-MiniLM-L6-v2')"
   ]
  },
  {
   "cell_type": "code",
   "execution_count": 11,
   "metadata": {},
   "outputs": [],
   "source": [
    "def vector(item):\n",
    "    return model.encode([description(item)])"
   ]
  },
  {
   "cell_type": "code",
   "execution_count": 12,
   "metadata": {},
   "outputs": [],
   "source": [
    "def find_similars(item):\n",
    "    results = collection.query(query_embeddings=vector(item).astype(float).tolist(), n_results=5)\n",
    "    documents = results['documents'][0][:]\n",
    "    prices = [m['price'] for m in results['metadatas'][0][:]]\n",
    "    return documents, prices"
   ]
  },
  {
   "cell_type": "code",
   "execution_count": 13,
   "metadata": {},
   "outputs": [
    {
     "name": "stdout",
     "output_type": "stream",
     "text": [
      "How much does this cost to the nearest dollar?\n",
      "\n",
      "MIGHTY SKINS MightySkins Glossy Glitter Skin for Beats Pill Plus - Mexican Flag | Protective, Durable High-Gloss Glitter Finish | Easy to Apply, Remove, and Change Styles | Made in The USA\n",
      "Introducing Glitter Skins With Printed HD Designs Only From MightySkins We are proud to introduce our new Glitter Skin line which features a full HD printed design with a unique glossy glitter finish. Do You Want Your Beats Pill Plus To Look Different Than The Rest? You’re in the right place because we’ve got exactly what you’re looking for! This skin is the perfect way to show off your style! Or with hundreds of other MightySkins designs, you can be sure to find one that you’ll love, and that will show off your unique style\n",
      "\n",
      "Price is $15.00\n"
     ]
    }
   ],
   "source": [
    "print(test[1].prompt)"
   ]
  },
  {
   "cell_type": "code",
   "execution_count": 15,
   "metadata": {},
   "outputs": [
    {
     "name": "stdout",
     "output_type": "stream",
     "text": [
      "To provide some context, here are some other items that might be similar to the item you need to estimate.\n",
      "\n",
      "Potentially related product:\n",
      "MIGHTY SKINS MightySkins Carbon Fiber Skin for Microsoft Surface Duo - Geo Sugar Skull | Protective, Durable Textured Carbon Fiber Finish | Easy to Apply | Made in The USA\n",
      "Introducing Textured Carbon Fiber Skins With Printed Hd Designs Only From Mightyskins we are proud to introduce the new textured carbon fiber skin line which feature a full HD printed design with a textured carbon fiber finish. Do You Want Your Microsoft Surface Duo To Look Different Than The Rest? You’re in the right place because we’ve got exactly what you’re looking for! This Geo Sugar Skull skin is the perfect way to show off your style! Or with hundreds of other MightySkins designs, you can be sure to find one that you’ll love, and that will show off your unique style! Do\n",
      "Price is $18.54\n",
      "\n",
      "Potentially related product:\n",
      "MightySkins Skin for Beats Solo Pro Wireless Headphones - Rainbow Zoom | Protective, Durable, and Unique Vinyl Decal wrap cover | Easy To Apply, Remove, and Change Styles | Made in the USA\n",
      "Do You Want Your Beats Solo Pro Wireless Headphones To Look Different Than The Rest? You’re in the right place because we’ve got exactly what you’re looking for! This Rainbow Zoom skin is the perfect way to show off your style! Or with hundreds of other MightySkins designs, you can be sure to find one that you’ll love, and that will show off your unique style! Do You Want To Protect Your Beats Solo Pro Wireless Headphones? With MightySkins your Beats Solo Pro Wireless Headphones is protected from scratches, dings, dust, fingertips,\n",
      "Price is $13.05\n",
      "\n",
      "Potentially related product:\n",
      "MIGHTY SKINS MightySkins Carbon Fiber Skin for Ring Stick Up Cam Battery - On The Fence | Protective, Durable Textured Carbon Fiber Finish | Easy to Apply, Remove, and Change Styles | Made in The USA\n",
      "Introducing Textured Carbon Fiber Skins With Printed Hd Designs Only From Mightyskins we are proud to introduce the new textured carbon fiber skin line which feature a full HD printed design with a textured carbon fiber finish. Do You Want Your Ring Stick Up Cam Battery To Look Different Than The Rest? You’re in the right place because we’ve got exactly what you’re looking for! This On The Fence skin is the perfect way to show off your style! Or with hundreds of other MightySkins designs, you can be sure to find one that you’ll love,\n",
      "Price is $13.51\n",
      "\n",
      "Potentially related product:\n",
      "MIGHTY SKINS Skin for Samsung Galaxy Note 20 5G - Solid Blue | Protective, Durable, and Unique Vinyl Decal wrap Cover | Easy to Apply, Remove, and Change Styles | Made in The USA Blue)\n",
      "Do You Want Your Samsung Galaxy Note 20 5G To Look Different Than The Rest? You’re in the right place because we’ve got exactly what you’re looking for! This Solid Blue skin is the perfect way to show off your style! Or with hundreds of other MightySkins designs, you can be sure to find one that you’ll love, and that will show off your unique style! Do You Want To Protect Your Samsung Galaxy Note 20 5G? With MightySkins your Samsung Galaxy Note 20 5G is protected from\n",
      "Price is $7.77\n",
      "\n",
      "Potentially related product:\n",
      "MightySkins Skin Compatible with Garmin Vivoactive HR - Blue Ice | Protective, Durable, and Unique Vinyl Decal wrap Cover | Easy to Apply, Remove, and Change Styles | Made in The USA\n",
      "Do You Want Your Garmin Vivoactive HR To Look Different Than The Rest? You’re in the right place because we’ve got exactly what you’re looking for! This Blue Ice skin is the perfect way to show off your style! Or with hundreds of other MightySkins designs, you can be sure to find one that you’ll love, and that will show off your unique style! Do You Want To Protect Your Vivoactive HR? With MightySkins your Vivoactive HR is protected from scratches, dings, dust, fingertips, and the wear-and-tear of everyday use\n",
      "Price is $10.41\n",
      "\n",
      "\n"
     ]
    }
   ],
   "source": [
    "documents, prices = find_similars(test[1])\n",
    "print(make_context(documents, prices))"
   ]
  },
  {
   "cell_type": "code",
   "execution_count": 17,
   "metadata": {},
   "outputs": [
    {
     "data": {
      "text/plain": [
       "[{'role': 'system',\n",
       "  'content': 'You estimate prices of items. Reply only with the price, no explanation'},\n",
       " {'role': 'user',\n",
       "  'content': 'To provide some context, here are some other items that might be similar to the item you need to estimate.\\n\\nPotentially related product:\\nMIGHTY SKINS MightySkins Carbon Fiber Skin for Microsoft Surface Duo - Geo Sugar Skull | Protective, Durable Textured Carbon Fiber Finish | Easy to Apply | Made in The USA\\nIntroducing Textured Carbon Fiber Skins With Printed Hd Designs Only From Mightyskins we are proud to introduce the new textured carbon fiber skin line which feature a full HD printed design with a textured carbon fiber finish. Do You Want Your Microsoft Surface Duo To Look Different Than The Rest? You’re in the right place because we’ve got exactly what you’re looking for! This Geo Sugar Skull skin is the perfect way to show off your style! Or with hundreds of other MightySkins designs, you can be sure to find one that you’ll love, and that will show off your unique style! Do\\nPrice is $18.54\\n\\nPotentially related product:\\nMightySkins Skin for Beats Solo Pro Wireless Headphones - Rainbow Zoom | Protective, Durable, and Unique Vinyl Decal wrap cover | Easy To Apply, Remove, and Change Styles | Made in the USA\\nDo You Want Your Beats Solo Pro Wireless Headphones To Look Different Than The Rest? You’re in the right place because we’ve got exactly what you’re looking for! This Rainbow Zoom skin is the perfect way to show off your style! Or with hundreds of other MightySkins designs, you can be sure to find one that you’ll love, and that will show off your unique style! Do You Want To Protect Your Beats Solo Pro Wireless Headphones? With MightySkins your Beats Solo Pro Wireless Headphones is protected from scratches, dings, dust, fingertips,\\nPrice is $13.05\\n\\nPotentially related product:\\nMIGHTY SKINS MightySkins Carbon Fiber Skin for Ring Stick Up Cam Battery - On The Fence | Protective, Durable Textured Carbon Fiber Finish | Easy to Apply, Remove, and Change Styles | Made in The USA\\nIntroducing Textured Carbon Fiber Skins With Printed Hd Designs Only From Mightyskins we are proud to introduce the new textured carbon fiber skin line which feature a full HD printed design with a textured carbon fiber finish. Do You Want Your Ring Stick Up Cam Battery To Look Different Than The Rest? You’re in the right place because we’ve got exactly what you’re looking for! This On The Fence skin is the perfect way to show off your style! Or with hundreds of other MightySkins designs, you can be sure to find one that you’ll love,\\nPrice is $13.51\\n\\nPotentially related product:\\nMIGHTY SKINS Skin for Samsung Galaxy Note 20 5G - Solid Blue | Protective, Durable, and Unique Vinyl Decal wrap Cover | Easy to Apply, Remove, and Change Styles | Made in The USA Blue)\\nDo You Want Your Samsung Galaxy Note 20 5G To Look Different Than The Rest? You’re in the right place because we’ve got exactly what you’re looking for! This Solid Blue skin is the perfect way to show off your style! Or with hundreds of other MightySkins designs, you can be sure to find one that you’ll love, and that will show off your unique style! Do You Want To Protect Your Samsung Galaxy Note 20 5G? With MightySkins your Samsung Galaxy Note 20 5G is protected from\\nPrice is $7.77\\n\\nPotentially related product:\\nMightySkins Skin Compatible with Garmin Vivoactive HR - Blue Ice | Protective, Durable, and Unique Vinyl Decal wrap Cover | Easy to Apply, Remove, and Change Styles | Made in The USA\\nDo You Want Your Garmin Vivoactive HR To Look Different Than The Rest? You’re in the right place because we’ve got exactly what you’re looking for! This Blue Ice skin is the perfect way to show off your style! Or with hundreds of other MightySkins designs, you can be sure to find one that you’ll love, and that will show off your unique style! Do You Want To Protect Your Vivoactive HR? With MightySkins your Vivoactive HR is protected from scratches, dings, dust, fingertips, and the wear-and-tear of everyday use\\nPrice is $10.41\\n\\nAnd now the question for you:\\n\\nHow much does this cost?\\n\\nMIGHTY SKINS MightySkins Glossy Glitter Skin for Beats Pill Plus - Mexican Flag | Protective, Durable High-Gloss Glitter Finish | Easy to Apply, Remove, and Change Styles | Made in The USA\\nIntroducing Glitter Skins With Printed HD Designs Only From MightySkins We are proud to introduce our new Glitter Skin line which features a full HD printed design with a unique glossy glitter finish. Do You Want Your Beats Pill Plus To Look Different Than The Rest? You’re in the right place because we’ve got exactly what you’re looking for! This skin is the perfect way to show off your style! Or with hundreds of other MightySkins designs, you can be sure to find one that you’ll love, and that will show off your unique style'},\n",
       " {'role': 'assistant', 'content': 'Price is $'}]"
      ]
     },
     "execution_count": 17,
     "metadata": {},
     "output_type": "execute_result"
    }
   ],
   "source": [
    "messages_for(test[1], documents, prices)"
   ]
  },
  {
   "cell_type": "code",
   "execution_count": 19,
   "metadata": {},
   "outputs": [],
   "source": [
    "import re\n",
    "\n",
    "def get_price(s):\n",
    "    s = s.replace('$','').replace(',','')\n",
    "    match = re.search(r\"[-+]?\\d*\\.\\d+|\\d+\", s)\n",
    "    return float(match.group()) if match else 0"
   ]
  },
  {
   "cell_type": "code",
   "execution_count": 20,
   "metadata": {},
   "outputs": [
    {
     "data": {
      "text/plain": [
       "99.99"
      ]
     },
     "execution_count": 20,
     "metadata": {},
     "output_type": "execute_result"
    }
   ],
   "source": [
    "get_price(\"The price for this is $99.99\")"
   ]
  },
  {
   "cell_type": "code",
   "execution_count": 21,
   "metadata": {},
   "outputs": [],
   "source": [
    "def gpt_4o_mini_rag(item):\n",
    "    documents, prices = find_similars(item)\n",
    "    response = openai.chat.completions.create(\n",
    "        model=\"gpt-4o-mini\", \n",
    "        messages=messages_for(item, documents, prices),\n",
    "        seed=42,\n",
    "        max_tokens=5\n",
    "    )\n",
    "    reply = response.choices[0].message.content\n",
    "    return get_price(reply)"
   ]
  },
  {
   "cell_type": "code",
   "execution_count": 22,
   "metadata": {},
   "outputs": [
    {
     "data": {
      "text/plain": [
       "15.99"
      ]
     },
     "execution_count": 22,
     "metadata": {},
     "output_type": "execute_result"
    }
   ],
   "source": [
    "gpt_4o_mini_rag(test[1])"
   ]
  },
  {
   "cell_type": "code",
   "execution_count": 23,
   "metadata": {},
   "outputs": [
    {
     "data": {
      "text/plain": [
       "14.99"
      ]
     },
     "execution_count": 23,
     "metadata": {},
     "output_type": "execute_result"
    }
   ],
   "source": [
    "test[1].price"
   ]
  },
  {
   "cell_type": "code",
   "execution_count": 24,
   "metadata": {},
   "outputs": [
    {
     "name": "stdout",
     "output_type": "stream",
     "text": [
      "\u001b[91m1: Guess: $249.99 Truth: $155.00 Error: $94.99 SLE: 0.23 Item: Dale Tiffany TT12147 Poelking 2-Light Bl...\u001b[0m\n",
      "\u001b[92m2: Guess: $19.99 Truth: $14.99 Error: $5.00 SLE: 0.07 Item: MIGHTY SKINS MightySkins Glossy Glitter ...\u001b[0m\n",
      "\u001b[92m3: Guess: $15.99 Truth: $21.99 Error: $6.00 SLE: 0.09 Item: Goodsprout Compatible with Samsung Galax...\u001b[0m\n",
      "\u001b[92m4: Guess: $54.67 Truth: $51.55 Error: $3.12 SLE: 0.00 Item: 880LMW Smart Control Panel ONLY Compatib...\u001b[0m\n",
      "\u001b[92m5: Guess: $10.99 Truth: $9.99 Error: $1.00 SLE: 0.01 Item: Cobweb Bulletin Board Borders for Hallow...\u001b[0m\n",
      "\u001b[92m6: Guess: $35.24 Truth: $27.50 Error: $7.74 SLE: 0.06 Item: Detroit Axle - Front Ceramic Brake Pads ...\u001b[0m\n",
      "\u001b[93m7: Guess: $149.99 Truth: $87.56 Error: $62.43 SLE: 0.28 Item: ACDelco Professional 18FR1383C Rear Pass...\u001b[0m\n",
      "\u001b[92m8: Guess: $14.99 Truth: $9.99 Error: $5.00 SLE: 0.14 Item: Noare Educational Math Posters for Kids ...\u001b[0m\n",
      "\u001b[93m9: Guess: $119.99 Truth: $169.00 Error: $49.01 SLE: 0.12 Item: Ryobi 10 in. 40-Volt Cordless Pole Saw (...\u001b[0m\n",
      "\u001b[93m10: Guess: $299.99 Truth: $449.00 Error: $149.01 SLE: 0.16 Item: Corsair HXi Series, HX1200i, 1200 Watt, ...\u001b[0m\n",
      "\u001b[92m11: Guess: $598.00 Truth: $598.00 Error: $0.00 SLE: 0.00 Item: Sony FE 24mm F2.8 G Full-Frame Ultra-Com...\u001b[0m\n",
      "\u001b[92m12: Guess: $75.99 Truth: $47.99 Error: $28.00 SLE: 0.20 Item: Suzo Happ Electronic Roll Down Coin Acce...\u001b[0m\n",
      "\u001b[92m13: Guess: $24.99 Truth: $13.99 Error: $11.00 SLE: 0.30 Item: ICEPURE Coffee Machine Water Filter Repl...\u001b[0m\n",
      "\u001b[92m14: Guess: $9.99 Truth: $7.99 Error: $2.00 SLE: 0.04 Item: Antrader 1.8\" x 1.8\" x 0.5\" Box Corner G...\u001b[0m\n",
      "\u001b[92m15: Guess: $99.99 Truth: $83.99 Error: $16.00 SLE: 0.03 Item: DB Electrical 410-54177 New Starter Comp...\u001b[0m\n",
      "\u001b[92m16: Guess: $15.99 Truth: $7.99 Error: $8.00 SLE: 0.41 Item: Quntis Lightning Cable MFi Certified iPh...\u001b[0m\n",
      "\u001b[93m17: Guess: $74.99 Truth: $150.00 Error: $75.01 SLE: 0.47 Item: Andis Professional All-in-One Lightweigh...\u001b[0m\n",
      "\u001b[92m18: Guess: $34.00 Truth: $39.99 Error: $5.99 SLE: 0.02 Item: 2-Pack Surface Burner 8 inch 5 Turns Ele...\u001b[0m\n",
      "\u001b[92m19: Guess: $49.99 Truth: $46.45 Error: $3.54 SLE: 0.01 Item: Westinghouse Lighting 7505200 7-Inch Sli...\u001b[0m\n",
      "\u001b[92m20: Guess: $14.99 Truth: $11.72 Error: $3.27 SLE: 0.05 Item: Momster Gift & Phone Holder Knob PopSock...\u001b[0m\n",
      "\u001b[92m21: Guess: $199.00 Truth: $199.99 Error: $0.99 SLE: 0.00 Item: Porta-Booth Plus\u001b[0m\n",
      "\u001b[91m22: Guess: $149.99 Truth: $450.00 Error: $300.01 SLE: 1.20 Item: Factory Entertainment Star Trek Ressikan...\u001b[0m\n",
      "\u001b[92m23: Guess: $47.00 Truth: $26.07 Error: $20.93 SLE: 0.33 Item: Sunlite ODF1010 7-Inch On/Off Fluorescen...\u001b[0m\n",
      "\u001b[92m24: Guess: $7.99 Truth: $10.99 Error: $3.00 SLE: 0.08 Item: E-outstanding 6pcs 3-Hole Loose Leaf Bin...\u001b[0m\n",
      "\u001b[92m25: Guess: $49.99 Truth: $29.39 Error: $20.60 SLE: 0.27 Item: FR610, PW116, RM112, 67T67 R224M, WU136 ...\u001b[0m\n",
      "\u001b[91m26: Guess: $149.99 Truth: $420.50 Error: $270.51 SLE: 1.05 Item: Graco 246240 Silver Plus Airless Spray G...\u001b[0m\n",
      "\u001b[92m27: Guess: $75.00 Truth: $59.99 Error: $15.01 SLE: 0.05 Item: Eglo 86248A Konya Floor Lamp, Matte Nick...\u001b[0m\n",
      "\u001b[92m28: Guess: $24.99 Truth: $13.99 Error: $11.00 SLE: 0.30 Item: CYD Wooden Case for iPhone 11,Natural Re...\u001b[0m\n",
      "\u001b[92m29: Guess: $45.68 Truth: $27.97 Error: $17.71 SLE: 0.23 Item: Strongarm 4031PR Trunk Lid Lift Support,...\u001b[0m\n",
      "\u001b[92m30: Guess: $14.99 Truth: $20.52 Error: $5.53 SLE: 0.09 Item: National Hardware N109-007 T-hingeHd12 B...\u001b[0m\n",
      "\u001b[92m31: Guess: $329.99 Truth: $294.99 Error: $35.00 SLE: 0.01 Item: SKB Cases 1SKB-R100 Roto-molded 10U Top ...\u001b[0m\n",
      "\u001b[92m32: Guess: $12.99 Truth: $10.99 Error: $2.00 SLE: 0.02 Item: EverBrightt 10-Pack Cool White 1156 BA15...\u001b[0m\n",
      "\u001b[92m33: Guess: $74.00 Truth: $99.00 Error: $25.00 SLE: 0.08 Item: Yongnuo YN50MM F1.8 II AF/MF 0.35M Focus...\u001b[0m\n",
      "\u001b[93m34: Guess: $89.99 Truth: $159.98 Error: $69.99 SLE: 0.33 Item: Eurus Home Table Lamp 26\" Blue Glass Des...\u001b[0m\n",
      "\u001b[91m35: Guess: $20.99 Truth: $415.85 Error: $394.86 SLE: 8.66 Item: Philips InstantFit T8 LED Tube Light Bul...\u001b[0m\n",
      "\u001b[91m36: Guess: $99.99 Truth: $232.86 Error: $132.87 SLE: 0.71 Item: STREAMLIGHT Lightweight Rechargeable Lon...\u001b[0m\n",
      "\u001b[92m37: Guess: $49.99 Truth: $37.99 Error: $12.00 SLE: 0.07 Item: TCT Premium Compatible Toner Cartridge R...\u001b[0m\n",
      "\u001b[92m38: Guess: $49.99 Truth: $53.80 Error: $3.81 SLE: 0.01 Item: Trademark Poker Card Suits Poker Chip Se...\u001b[0m\n",
      "\u001b[92m39: Guess: $24.99 Truth: $26.99 Error: $2.00 SLE: 0.01 Item: FastEddy Bearings Compatible with Arrma ...\u001b[0m\n",
      "\u001b[92m40: Guess: $15.99 Truth: $12.99 Error: $3.00 SLE: 0.04 Item: Hekodonk Compatible with iPhone 13 Case ...\u001b[0m\n",
      "\u001b[92m41: Guess: $109.99 Truth: $148.00 Error: $38.01 SLE: 0.09 Item: Infinity Cable Cat6e CMR Riser 600MHz UT...\u001b[0m\n",
      "\u001b[92m42: Guess: $49.99 Truth: $58.95 Error: $8.96 SLE: 0.03 Item: Show Chrome Accessories 41-171 GPS/Phone...\u001b[0m\n",
      "\u001b[92m43: Guess: $49.95 Truth: $49.95 Error: $0.00 SLE: 0.00 Item: HeatShield, The Original Windshield Sun ...\u001b[0m\n",
      "\u001b[92m44: Guess: $15.99 Truth: $12.99 Error: $3.00 SLE: 0.04 Item: ZLHCGD 3Pack Mickey Mouse Tablecloth Mou...\u001b[0m\n",
      "\u001b[93m45: Guess: $24.99 Truth: $65.00 Error: $40.01 SLE: 0.87 Item: Intel Cooling Fan/Heatsink CPU Fan BXHTS...\u001b[0m\n",
      "\u001b[92m46: Guess: $9.99 Truth: $15.95 Error: $5.96 SLE: 0.19 Item: Ford Logo Valve Cap Covers (White)\u001b[0m\n",
      "\u001b[92m47: Guess: $8.99 Truth: $19.99 Error: $11.00 SLE: 0.55 Item: HappyBalls Happy Santa Head w/Hat Car An...\u001b[0m\n",
      "\u001b[92m48: Guess: $12.50 Truth: $12.99 Error: $0.49 SLE: 0.00 Item: EatingBiting Dollhouse Miniature Doll Be...\u001b[0m\n",
      "\u001b[92m49: Guess: $42.99 Truth: $49.99 Error: $7.00 SLE: 0.02 Item: Hypro 9910-KIT1723 Diaphragm Repair Kit ...\u001b[0m\n",
      "\u001b[92m50: Guess: $75.99 Truth: $77.58 Error: $1.59 SLE: 0.00 Item: ACCEL 5129R Spark Plug Wire Set - Super ...\u001b[0m\n",
      "\u001b[92m51: Guess: $9.99 Truth: $9.99 Error: $0.00 SLE: 0.00 Item: uxcell Auto Car Repairing 8mm Swivel Hea...\u001b[0m\n",
      "\u001b[93m52: Guess: $21.95 Truth: $63.95 Error: $42.00 SLE: 1.08 Item: celicious Privacy 2-Way Anti-Spy Filter ...\u001b[0m\n",
      "\u001b[91m53: Guess: $89.99 Truth: $232.50 Error: $142.51 SLE: 0.89 Item: Complete FRONT Brake Rebuild KIT (Includ...\u001b[0m\n",
      "\u001b[93m54: Guess: $549.00 Truth: $799.00 Error: $250.00 SLE: 0.14 Item: DJI Mini 2 Fly More Combo – Ultralight F...\u001b[0m\n",
      "\u001b[92m55: Guess: $349.99 Truth: $409.95 Error: $59.96 SLE: 0.02 Item: HMF for Yamaha Grizzly 550 8-14/Grizzly ...\u001b[0m\n",
      "\u001b[92m56: Guess: $19.99 Truth: $36.95 Error: $16.96 SLE: 0.35 Item: Book Darts Line Markers - 250 Count Tin ...\u001b[0m\n",
      "\u001b[92m57: Guess: $74.99 Truth: $49.69 Error: $25.30 SLE: 0.16 Item: Vega Helmets Sniper Motorcycle Half Helm...\u001b[0m\n",
      "\u001b[92m58: Guess: $15.99 Truth: $6.99 Error: $9.00 SLE: 0.57 Item: AKINIK for Samsung Galaxy S22 Case, S22 ...\u001b[0m\n",
      "\u001b[92m59: Guess: $130.22 Truth: $144.89 Error: $14.67 SLE: 0.01 Item: cciyu Air Conditioning Compressor for Ch...\u001b[0m\n",
      "\u001b[93m60: Guess: $95.99 Truth: $168.00 Error: $72.01 SLE: 0.31 Item: Car Seat Covers for Toyota FJ Cruiser 20...\u001b[0m\n",
      "\u001b[92m61: Guess: $39.99 Truth: $39.99 Error: $0.00 SLE: 0.00 Item: Rophor Trailer Jack Block, New Version R...\u001b[0m\n",
      "\u001b[92m62: Guess: $11.99 Truth: $10.99 Error: $1.00 SLE: 0.01 Item: Zase Samsung Galaxy A53 5G Liquid Glitte...\u001b[0m\n",
      "\u001b[92m63: Guess: $67.50 Truth: $55.78 Error: $11.72 SLE: 0.04 Item: Galeton Viper Double Coated PVC Gloves S...\u001b[0m\n",
      "\u001b[92m64: Guess: $20.99 Truth: $21.99 Error: $1.00 SLE: 0.00 Item: Cuddly Soft 16 inch Stuffed Black & Whit...\u001b[0m\n",
      "\u001b[92m65: Guess: $7.99 Truth: $5.99 Error: $2.00 SLE: 0.06 Item: 50 Pack Kraft Envelopes, 5x7 Envelopes f...\u001b[0m\n",
      "\u001b[92m66: Guess: $14.99 Truth: $10.66 Error: $4.33 SLE: 0.10 Item: Lynn Electronics LCLCDUPSM-3M 9/125 Yell...\u001b[0m\n",
      "\u001b[93m67: Guess: $249.99 Truth: $204.90 Error: $45.09 SLE: 0.04 Item: Rockville Pair 8\" 900w Marine Boat White...\u001b[0m\n",
      "\u001b[92m68: Guess: $159.00 Truth: $159.00 Error: $0.00 SLE: 0.00 Item: J&L Oil Separator Co. 3.0 Oil Separator ...\u001b[0m\n",
      "\u001b[91m69: Guess: $42.99 Truth: $144.99 Error: $102.00 SLE: 1.44 Item: VULCAN Car Tie Down - Rolling Idler 3-Cl...\u001b[0m\n",
      "\u001b[92m70: Guess: $9.99 Truth: $6.93 Error: $3.06 SLE: 0.11 Item: Grinding Disc 0.5\" Thck Fits Any Electri...\u001b[0m\n",
      "\u001b[92m71: Guess: $29.99 Truth: $26.99 Error: $3.00 SLE: 0.01 Item: Hushlily® Doll Pack N Play Baby Doll Cri...\u001b[0m\n",
      "\u001b[92m72: Guess: $45.00 Truth: $54.99 Error: $9.99 SLE: 0.04 Item: Bluetooth 4.2 Stylus Pen for Microsoft S...\u001b[0m\n",
      "\u001b[92m73: Guess: $24.99 Truth: $16.99 Error: $8.00 SLE: 0.14 Item: Heavy Duty Steel Transmission Straight G...\u001b[0m\n",
      "\u001b[92m74: Guess: $25.99 Truth: $25.99 Error: $0.00 SLE: 0.00 Item: Touch Up Express Paint for Subaru Forest...\u001b[0m\n",
      "\u001b[92m75: Guess: $24.99 Truth: $21.95 Error: $3.04 SLE: 0.02 Item: VMS Racing 12x1.25mm Threaded 5 Speed Ty...\u001b[0m\n",
      "\u001b[93m76: Guess: $39.99 Truth: $83.67 Error: $43.68 SLE: 0.53 Item: IPCW LED3-407B Bermuda Black LED Third B...\u001b[0m\n",
      "\u001b[92m77: Guess: $399.99 Truth: $369.99 Error: $30.00 SLE: 0.01 Item: Bestop 3943537 Spice Trailmax II Rear Fo...\u001b[0m\n",
      "\u001b[92m78: Guess: $12.99 Truth: $9.99 Error: $3.00 SLE: 0.06 Item: Genuine Leather with Silicone WatchBand ...\u001b[0m\n",
      "\u001b[92m79: Guess: $24.08 Truth: $27.65 Error: $3.57 SLE: 0.02 Item: ACDelco Professional 18P1366 Rear Parkin...\u001b[0m\n",
      "\u001b[92m80: Guess: $24.99 Truth: $33.95 Error: $8.96 SLE: 0.09 Item: Kichler 15276BK Accessory Stake 120V, Bl...\u001b[0m\n",
      "\u001b[92m81: Guess: $24.99 Truth: $24.95 Error: $0.04 SLE: 0.00 Item: Pursonic BR30 SW 65 Watt Equivalent 10-P...\u001b[0m\n",
      "\u001b[92m82: Guess: $64.99 Truth: $64.99 Error: $0.00 SLE: 0.00 Item: ML-U1 12V 200CCA Battery for Toro 310-8 ...\u001b[0m\n",
      "\u001b[92m83: Guess: $24.95 Truth: $25.99 Error: $1.04 SLE: 0.00 Item: (15) 2 oz. Coin Capsule for Great Britai...\u001b[0m\n",
      "\u001b[92m84: Guess: $39.99 Truth: $24.98 Error: $15.01 SLE: 0.21 Item: FOVAL 200W Car Power Inverter, DC 12V to...\u001b[0m\n",
      "\u001b[92m85: Guess: $109.99 Truth: $115.99 Error: $6.00 SLE: 0.00 Item: iPower 12 Inch Shutter Exhaust Fan Alumi...\u001b[0m\n",
      "\u001b[92m86: Guess: $149.00 Truth: $129.00 Error: $20.00 SLE: 0.02 Item: Durafit Seat Covers, C933-L7, 1996-2009 ...\u001b[0m\n",
      "\u001b[92m87: Guess: $89.99 Truth: $55.99 Error: $34.00 SLE: 0.22 Item: HomGarden 24\" Color Prize Wheel w/Adjust...\u001b[0m\n",
      "\u001b[92m88: Guess: $49.99 Truth: $89.99 Error: $40.00 SLE: 0.34 Item: FixtureDisplays® Raffle Drum Poker Raffl...\u001b[0m\n",
      "\u001b[92m89: Guess: $19.99 Truth: $24.99 Error: $5.00 SLE: 0.05 Item: Alphacool G1/4\" Male to Male Extender Fi...\u001b[0m\n",
      "\u001b[92m90: Guess: $10.99 Truth: $7.06 Error: $3.93 SLE: 0.16 Item: Westinghouse Lighting 5000000 50-Watt Eq...\u001b[0m\n",
      "\u001b[92m91: Guess: $29.99 Truth: $31.97 Error: $1.98 SLE: 0.00 Item: MYTEC Home Vise Universal Rotate 360° Wo...\u001b[0m\n",
      "\u001b[92m92: Guess: $15.99 Truth: $12.99 Error: $3.00 SLE: 0.04 Item: Retro London Bus Umbrella Hearts Trees B...\u001b[0m\n",
      "\u001b[92m93: Guess: $24.99 Truth: $14.99 Error: $10.00 SLE: 0.24 Item: Office Works Small Dry-Erase Wooden Whit...\u001b[0m\n",
      "\u001b[92m94: Guess: $11.99 Truth: $10.99 Error: $1.00 SLE: 0.01 Item: 9 Pcs 50th Birthday Decorations Vintage ...\u001b[0m\n",
      "\u001b[92m95: Guess: $7.00 Truth: $11.00 Error: $4.00 SLE: 0.16 Item: St. Patrick's Day Penguin with Shamrock\u001b[0m\n",
      "\u001b[92m96: Guess: $12.99 Truth: $9.99 Error: $3.00 SLE: 0.06 Item: ZeeDix 30 Pcs LED Colorful Halloween Eye...\u001b[0m\n",
      "\u001b[92m97: Guess: $14.99 Truth: $10.99 Error: $4.00 SLE: 0.08 Item: Relper-Lineso 2 Pack Gold Plated Stereo ...\u001b[0m\n",
      "\u001b[92m98: Guess: $95.00 Truth: $119.89 Error: $24.89 SLE: 0.05 Item: ESEE Knives Model 3 Plain Edge Desert Ta...\u001b[0m\n",
      "\u001b[92m99: Guess: $35.00 Truth: $23.99 Error: $11.01 SLE: 0.13 Item: Yongxinsheng DDR3 16GB Kit (8GBx2) Deskt...\u001b[0m\n",
      "\u001b[92m100: Guess: $4.99 Truth: $6.65 Error: $1.66 SLE: 0.06 Item: SHARPIE Oil-Based Paint Marker, Medium P...\u001b[0m\n",
      "\u001b[92m101: Guess: $27.99 Truth: $9.99 Error: $18.00 SLE: 0.94 Item: Shower Head Hard Water Softener High Wat...\u001b[0m\n",
      "\u001b[92m102: Guess: $12.99 Truth: $7.99 Error: $5.00 SLE: 0.20 Item: Honbay 10Pcs 1/4\" Mono Jack Socket Strat...\u001b[0m\n",
      "\u001b[92m103: Guess: $54.90 Truth: $69.90 Error: $15.00 SLE: 0.06 Item: Rareelectrical SEADOO Starter Compatible...\u001b[0m\n",
      "\u001b[92m104: Guess: $19.99 Truth: $7.99 Error: $12.00 SLE: 0.72 Item: Teacher Created Resources Foam Fraction ...\u001b[0m\n",
      "\u001b[92m105: Guess: $7.99 Truth: $7.99 Error: $0.00 SLE: 0.00 Item: Moohome Pre-Strung Unicorn Door Sign - U...\u001b[0m\n",
      "\u001b[92m106: Guess: $19.99 Truth: $22.49 Error: $2.50 SLE: 0.01 Item: CMT 801.158.11B Mortising Bit with 5/8-I...\u001b[0m\n",
      "\u001b[92m107: Guess: $9.99 Truth: $13.87 Error: $3.88 SLE: 0.09 Item: Reusable Cable Ties 1/2\" x 8\" for Cable ...\u001b[0m\n",
      "\u001b[92m108: Guess: $24.99 Truth: $6.55 Error: $18.44 SLE: 1.53 Item: tech21 - Pure Clear - for Samsung Galaxy...\u001b[0m\n",
      "\u001b[92m109: Guess: $22.99 Truth: $9.99 Error: $13.00 SLE: 0.61 Item: JSVSAL (4-Pack G8/GY8.6 LED Bulb, 2.5W U...\u001b[0m\n",
      "\u001b[92m110: Guess: $329.99 Truth: $389.94 Error: $59.95 SLE: 0.03 Item: AmScope SM-1BS-144S Professional Binocul...\u001b[0m\n",
      "\u001b[92m111: Guess: $47.99 Truth: $17.95 Error: $30.04 SLE: 0.90 Item: Rear Wheel Bearing & Seal Kit for Yamaha...\u001b[0m\n",
      "\u001b[92m112: Guess: $74.99 Truth: $50.98 Error: $24.01 SLE: 0.14 Item: AISIN BTT-002 OEM Timing Belt Tensioner\u001b[0m\n",
      "\u001b[92m113: Guess: $47.75 Truth: $16.79 Error: $30.96 SLE: 1.02 Item: EBC Disk Brake Pads for Avid Mechanical-...\u001b[0m\n",
      "\u001b[92m114: Guess: $24.99 Truth: $22.99 Error: $2.00 SLE: 0.01 Item: Raeisusp USB Cable ACK-E18 + DR-E18 Dumm...\u001b[0m\n",
      "\u001b[92m115: Guess: $13.99 Truth: $17.99 Error: $4.00 SLE: 0.06 Item: CQRobot Ocean: TCS34725FN RGB Color Sens...\u001b[0m\n",
      "\u001b[91m116: Guess: $129.99 Truth: $219.95 Error: $89.96 SLE: 0.27 Item: Evergreen TK2024LGWPT Compatible With To...\u001b[0m\n",
      "\u001b[92m117: Guess: $27.99 Truth: $14.99 Error: $13.00 SLE: 0.35 Item: United Pacific Clear White 6\" Oval Truck...\u001b[0m\n",
      "\u001b[92m118: Guess: $15.99 Truth: $11.99 Error: $4.00 SLE: 0.07 Item: 36 Pieces 18 Inch Punch Balloon Assorted...\u001b[0m\n",
      "\u001b[92m119: Guess: $17.49 Truth: $13.49 Error: $4.00 SLE: 0.06 Item: X AUTOHAUX Car Center Console Lid Armres...\u001b[0m\n",
      "\u001b[92m120: Guess: $9.99 Truth: $7.95 Error: $2.04 SLE: 0.04 Item: Pearstone USB 3.0 Type A Male to Type B ...\u001b[0m\n",
      "\u001b[92m121: Guess: $24.99 Truth: $13.99 Error: $11.00 SLE: 0.30 Item: FAJIA Liquid Transfer Pump,Electric Siph...\u001b[0m\n",
      "\u001b[92m122: Guess: $24.99 Truth: $24.58 Error: $0.41 SLE: 0.00 Item: X AUTOHAUX Car Dashboard Cover Nonslip B...\u001b[0m\n",
      "\u001b[92m123: Guess: $12.99 Truth: $11.99 Error: $1.00 SLE: 0.01 Item: MOLESS [6Pack] for Apple Watch Screen Pr...\u001b[0m\n",
      "\u001b[92m124: Guess: $49.99 Truth: $69.77 Error: $19.78 SLE: 0.11 Item: Prox Racing Parts 28.1334-2 Titanium Rep...\u001b[0m\n",
      "\u001b[92m125: Guess: $79.99 Truth: $95.79 Error: $15.80 SLE: 0.03 Item: Drop Safe - Digital Safe Compact Steel M...\u001b[0m\n",
      "\u001b[92m126: Guess: $45.99 Truth: $23.95 Error: $22.04 SLE: 0.40 Item: 108123 HD Fuel Pump/Fan Relay Kit 40 AMP\u001b[0m\n",
      "\u001b[92m127: Guess: $4.95 Truth: $8.17 Error: $3.22 SLE: 0.19 Item: Southland 582-025HC Steel Nipples, 3/8\" ...\u001b[0m\n",
      "\u001b[93m128: Guess: $159.00 Truth: $97.18 Error: $61.82 SLE: 0.24 Item: DJI OM 5 Smartphone Gimbal Stabilizer, 3...\u001b[0m\n",
      "\u001b[92m129: Guess: $16.99 Truth: $13.79 Error: $3.20 SLE: 0.04 Item: Andrew Mack Size 000 Series Long Bob Pin...\u001b[0m\n",
      "\u001b[92m130: Guess: $45.00 Truth: $49.50 Error: $4.50 SLE: 0.01 Item: GM 15823208 Power Brake Booster Vacuum S...\u001b[0m\n",
      "\u001b[92m131: Guess: $9.99 Truth: $10.17 Error: $0.18 SLE: 0.00 Item: ACDelco Gold 894 Front Fog Light Bulb\u001b[0m\n",
      "\u001b[92m132: Guess: $14.99 Truth: $13.98 Error: $1.01 SLE: 0.00 Item: Purple 1st Birthday Baby Tutu for High C...\u001b[0m\n",
      "\u001b[92m133: Guess: $14.99 Truth: $21.12 Error: $6.13 SLE: 0.11 Item: Dorman 917-013 Oil Filter Cap, Black\u001b[0m\n",
      "\u001b[92m134: Guess: $12.99 Truth: $18.90 Error: $5.91 SLE: 0.12 Item: 200 Nutley's Wooden Seedling Labels\u001b[0m\n",
      "\u001b[92m135: Guess: $29.99 Truth: $32.38 Error: $2.39 SLE: 0.01 Item: CinheyU Girls Halloween Costume Mermaid ...\u001b[0m\n",
      "\u001b[93m136: Guess: $93.99 Truth: $135.89 Error: $41.90 SLE: 0.13 Item: HP 13X Black High-yield Toner Cartridge ...\u001b[0m\n",
      "\u001b[92m137: Guess: $14.99 Truth: $18.99 Error: $4.00 SLE: 0.05 Item: Bee Heart Bumblebee - White PopSockets P...\u001b[0m\n",
      "\u001b[92m138: Guess: $151.71 Truth: $165.65 Error: $13.94 SLE: 0.01 Item: ARP 141-4203 12-Point Head Stud Kit\u001b[0m\n",
      "\u001b[92m139: Guess: $22.99 Truth: $15.99 Error: $7.00 SLE: 0.12 Item: ECCPP Lift Support Trunk Replacement Str...\u001b[0m\n",
      "\u001b[92m140: Guess: $15.29 Truth: $48.01 Error: $32.72 SLE: 1.21 Item: Edelmann 80449 Steering Pressure Hose\u001b[0m\n",
      "\u001b[92m141: Guess: $14.99 Truth: $17.99 Error: $3.00 SLE: 0.03 Item: co2CREA Hard Case Compatible with Midlan...\u001b[0m\n",
      "\u001b[92m142: Guess: $7.99 Truth: $5.95 Error: $2.04 SLE: 0.07 Item: Carson Dellosa – Calypso Mini Colorful C...\u001b[0m\n",
      "\u001b[92m143: Guess: $12.99 Truth: $6.66 Error: $6.33 SLE: 0.36 Item: ZTE Avid 4/Blade Vantage/Tempo X Case, A...\u001b[0m\n",
      "\u001b[92m144: Guess: $19.99 Truth: $32.79 Error: $12.80 SLE: 0.23 Item: SuperInk 2 Pack Remanufactured Ink Cartr...\u001b[0m\n",
      "\u001b[92m145: Guess: $12.99 Truth: $21.88 Error: $8.89 SLE: 0.24 Item: [Galaxy J7 Prime Case] Durable Flexible ...\u001b[0m\n",
      "\u001b[92m146: Guess: $5.99 Truth: $3.79 Error: $2.20 SLE: 0.14 Item: MPI Baltic Birch University Font Letters...\u001b[0m\n",
      "\u001b[92m147: Guess: $3.99 Truth: $3.69 Error: $0.30 SLE: 0.00 Item: Designer Greetings Upside Down Dog Back ...\u001b[0m\n",
      "\u001b[91m148: Guess: $99.99 Truth: $191.59 Error: $91.60 SLE: 0.42 Item: QSA 3\" Front Lift Spindles. Compatible w...\u001b[0m\n",
      "\u001b[91m149: Guess: $109.99 Truth: $549.99 Error: $440.00 SLE: 2.57 Item: LG VHS to DVD Recorder VCR Combo w/ Remo...\u001b[0m\n",
      "\u001b[92m150: Guess: $11.99 Truth: $14.99 Error: $3.00 SLE: 0.04 Item: Desert Cactus Nova Southeastern Universi...\u001b[0m\n",
      "\u001b[93m151: Guess: $149.99 Truth: $196.36 Error: $46.37 SLE: 0.07 Item: Lang Tools TU-15-52B Diesel Compression ...\u001b[0m\n",
      "\u001b[92m152: Guess: $12.99 Truth: $18.99 Error: $6.00 SLE: 0.13 Item: Arlington 60VC-1 Low Profile IN-AND-OUT ...\u001b[0m\n",
      "\u001b[92m153: Guess: $12.99 Truth: $13.99 Error: $1.00 SLE: 0.00 Item: Keyecu Replace Flip Shell Remote Key Cas...\u001b[0m\n",
      "\u001b[93m154: Guess: $199.99 Truth: $149.99 Error: $50.00 SLE: 0.08 Item: Truck Exhaust Kits 2.5\" Aluminized Singl...\u001b[0m\n",
      "\u001b[92m155: Guess: $67.20 Truth: $57.01 Error: $10.19 SLE: 0.03 Item: BRIGHTFOCAL New Screen Replacement for A...\u001b[0m\n",
      "\u001b[93m156: Guess: $119.00 Truth: $60.00 Error: $59.00 SLE: 0.46 Item: Autopartstw Compatible with 2003-2008 E-...\u001b[0m\n",
      "\u001b[92m157: Guess: $12.99 Truth: $9.95 Error: $3.04 SLE: 0.06 Item: Camco 55325 15 AMP Male / 30 AMP Female ...\u001b[0m\n",
      "\u001b[92m158: Guess: $24.99 Truth: $32.97 Error: $7.98 SLE: 0.07 Item: iParto 6.5\" LCD Screen Replacement for M...\u001b[0m\n",
      "\u001b[92m159: Guess: $63.88 Truth: $48.90 Error: $14.98 SLE: 0.07 Item: Qty (2) StrongArm 4564 Fits PT Cruiser 2...\u001b[0m\n",
      "\u001b[93m160: Guess: $399.00 Truth: $509.00 Error: $110.00 SLE: 0.06 Item: Luxury Waterfall LED 64 Colours Change C...\u001b[0m\n",
      "\u001b[93m161: Guess: $97.45 Truth: $50.36 Error: $47.09 SLE: 0.42 Item: ATP Z-162 Automatic Transmission Flywhee...\u001b[0m\n",
      "\u001b[92m162: Guess: $19.99 Truth: $12.95 Error: $7.04 SLE: 0.17 Item: 25 Printable Water-Resistant Clear Gloss...\u001b[0m\n",
      "\u001b[92m163: Guess: $12.99 Truth: $9.98 Error: $3.01 SLE: 0.06 Item: Compatible for Samsung Galaxy S20 FE Cas...\u001b[0m\n",
      "\u001b[92m164: Guess: $49.99 Truth: $88.99 Error: $39.00 SLE: 0.32 Item: Wi-Fi Smart Thermostat for Smart Home, T...\u001b[0m\n",
      "\u001b[92m165: Guess: $12.99 Truth: $7.99 Error: $5.00 SLE: 0.20 Item: Bathtub Lever Cover, Trip Lever Cover, P...\u001b[0m\n",
      "\u001b[92m166: Guess: $14.99 Truth: $6.99 Error: $8.00 SLE: 0.48 Item: XT AUTO 10Pcs High Speed Steel Burr Bits...\u001b[0m\n",
      "\u001b[92m167: Guess: $19.99 Truth: $13.52 Error: $6.47 SLE: 0.14 Item: GE USB Charging Station Outlet Adapter, ...\u001b[0m\n",
      "\u001b[92m168: Guess: $42.99 Truth: $24.95 Error: $18.04 SLE: 0.28 Item: Shankly Glow Plug Socket Set with 4 Piec...\u001b[0m\n",
      "\u001b[92m169: Guess: $12.99 Truth: $12.99 Error: $0.00 SLE: 0.00 Item: ViCiCA Under Hood LED Light Kit, Univers...\u001b[0m\n",
      "\u001b[93m170: Guess: $49.99 Truth: $117.66 Error: $67.67 SLE: 0.71 Item: Saeco 996530002101 (11004181) Black Brew...\u001b[0m\n",
      "\u001b[92m171: Guess: $29.99 Truth: $25.40 Error: $4.59 SLE: 0.03 Item: Brock Replacement Set Pair Fog Light Cov...\u001b[0m\n",
      "\u001b[92m172: Guess: $9.99 Truth: $15.00 Error: $5.01 SLE: 0.14 Item: Traxxas Jato 3.3 500cc FUEL BOTTLE Revo ...\u001b[0m\n",
      "\u001b[92m173: Guess: $22.99 Truth: $12.99 Error: $10.00 SLE: 0.29 Item: Mxfans RC Car Titanium 5 Spoke Wheel Hub...\u001b[0m\n",
      "\u001b[92m174: Guess: $69.95 Truth: $75.84 Error: $5.89 SLE: 0.01 Item: URO Parts 11511713266 Water Pump, w/Meta...\u001b[0m\n",
      "\u001b[92m175: Guess: $7.95 Truth: $6.95 Error: $1.00 SLE: 0.01 Item: ILLUMISHIELD Matte Screen Protector Comp...\u001b[0m\n",
      "\u001b[92m176: Guess: $139.99 Truth: $168.86 Error: $28.87 SLE: 0.03 Item: XFX ATI Radeon HD6870 1 GB DDR5 2DVI/HDM...\u001b[0m\n",
      "\u001b[92m177: Guess: $14.39 Truth: $18.96 Error: $4.57 SLE: 0.07 Item: PG PC5843C Cabin Air Filter|Fits 2019 Sm...\u001b[0m\n",
      "\u001b[92m178: Guess: $39.99 Truth: $8.95 Error: $31.04 SLE: 2.00 Item: XTracGear Drone XL Drone Landing Pad\u001b[0m\n",
      "\u001b[92m179: Guess: $19.99 Truth: $7.99 Error: $12.00 SLE: 0.72 Item: AILEMING GU10 LED Light Bulb 5W Equivale...\u001b[0m\n",
      "\u001b[92m180: Guess: $209.99 Truth: $209.99 Error: $0.00 SLE: 0.00 Item: Coverking Custom Fit Front 50/50 Bucket ...\u001b[0m\n",
      "\u001b[92m181: Guess: $14.99 Truth: $8.49 Error: $6.50 SLE: 0.27 Item: Hot Wheels Retro Entertainment Collectio...\u001b[0m\n",
      "\u001b[93m182: Guess: $319.99 Truth: $249.99 Error: $70.00 SLE: 0.06 Item: AIRAID Cold Air Intake System by K&N: In...\u001b[0m\n",
      "\u001b[92m183: Guess: $12.99 Truth: $13.89 Error: $0.90 SLE: 0.00 Item: Yifely Leaf Vine Wallpaper Border Roll S...\u001b[0m\n",
      "\u001b[92m184: Guess: $39.99 Truth: $29.95 Error: $10.04 SLE: 0.08 Item: Bluetooth MP3 Player with Headphones, Sp...\u001b[0m\n",
      "\u001b[92m185: Guess: $75.99 Truth: $95.99 Error: $20.00 SLE: 0.05 Item: MOSTPLUS Ignition Coils with Wire Sets C...\u001b[0m\n",
      "\u001b[92m186: Guess: $59.99 Truth: $43.89 Error: $16.10 SLE: 0.09 Item: HDBUBALUS Motorcycle CNC Handlebar Grips...\u001b[0m\n",
      "\u001b[92m187: Guess: $13.99 Truth: $13.99 Error: $0.00 SLE: 0.00 Item: DARUNAXY 90th Birthday Rose Gold Party D...\u001b[0m\n",
      "\u001b[92m188: Guess: $21.95 Truth: $20.95 Error: $1.00 SLE: 0.00 Item: Computer Glasses with Clear Polycarbonat...\u001b[0m\n",
      "\u001b[91m189: Guess: $299.95 Truth: $572.95 Error: $273.00 SLE: 0.42 Item: ClimaTek Upgraded ECM Furnace Blower Mot...\u001b[0m\n",
      "\u001b[92m190: Guess: $12.99 Truth: $11.49 Error: $1.50 SLE: 0.01 Item: uxcell Nylon Mesh Rigging Conduit Flex E...\u001b[0m\n",
      "\u001b[92m191: Guess: $29.99 Truth: $21.28 Error: $8.71 SLE: 0.11 Item: Wired Earbuds, HiFi Stereo Sound in Ear ...\u001b[0m\n",
      "\u001b[92m192: Guess: $99.99 Truth: $74.99 Error: $25.00 SLE: 0.08 Item: Altec Lansing HydraBoom Bluetooth Speake...\u001b[0m\n",
      "\u001b[92m193: Guess: $99.95 Truth: $109.95 Error: $10.00 SLE: 0.01 Item: Evoluent VM4RW VerticalMouse 4 Right Han...\u001b[0m\n",
      "\u001b[92m194: Guess: $10.99 Truth: $6.35 Error: $4.64 SLE: 0.24 Item: SanDisk Ultra Micro SDHC, 16GB Card\u001b[0m\n",
      "\u001b[92m195: Guess: $94.99 Truth: $105.95 Error: $10.96 SLE: 0.01 Item: Front Semi Metallic Disc Brake Pads and ...\u001b[0m\n",
      "\u001b[92m196: Guess: $12.99 Truth: $10.50 Error: $2.49 SLE: 0.04 Item: White Round Hole Reinforcement Labels , ...\u001b[0m\n",
      "\u001b[92m197: Guess: $29.99 Truth: $28.90 Error: $1.09 SLE: 0.00 Item: LOL Surprise OMG Remix Kitty K Fashion D...\u001b[0m\n",
      "\u001b[92m198: Guess: $59.99 Truth: $52.00 Error: $7.99 SLE: 0.02 Item: Quartet Magnetic Dry-Erase Board, 2' x 3...\u001b[0m\n",
      "\u001b[92m199: Guess: $69.99 Truth: $83.99 Error: $14.00 SLE: 0.03 Item: KAYYELAMP 2-Lights 100 Lumens Multi-Func...\u001b[0m\n",
      "\u001b[92m200: Guess: $18.99 Truth: $13.99 Error: $5.00 SLE: 0.08 Item: TOPBATHY Washing Machine Drain Discharge...\u001b[0m\n",
      "\u001b[92m201: Guess: $14.95 Truth: $16.99 Error: $2.04 SLE: 0.01 Item: Muigiwi Power Supply Battery Charger Com...\u001b[0m\n",
      "\u001b[92m202: Guess: $15.45 Truth: $3.86 Error: $11.59 SLE: 1.49 Item: FEL-PRO 61335 Throttle Body Gasket\u001b[0m\n",
      "\u001b[92m203: Guess: $7.45 Truth: $24.95 Error: $17.50 SLE: 1.26 Item: NGK (4984) PGR6A Laser Platinum Spark Pl...\u001b[0m\n",
      "\u001b[92m204: Guess: $45.99 Truth: $17.99 Error: $28.00 SLE: 0.82 Item: VISLONE 12V Spot Welding Machine DIY Por...\u001b[0m\n",
      "\u001b[92m205: Guess: $40.99 Truth: $48.96 Error: $7.97 SLE: 0.03 Item: ITM Engine Components 09-10701 Cylinder ...\u001b[0m\n",
      "\u001b[92m206: Guess: $14.99 Truth: $17.99 Error: $3.00 SLE: 0.03 Item: 235i Matte Black Trunk Lid Car Rear Badg...\u001b[0m\n",
      "\u001b[92m207: Guess: $9.99 Truth: $8.49 Error: $1.50 SLE: 0.02 Item: Asmyna MyJacket Wallet with Card Slot fo...\u001b[0m\n",
      "\u001b[92m208: Guess: $9.99 Truth: $17.99 Error: $8.00 SLE: 0.30 Item: Headset Mono 3.5mm Hands-Free Earphone S...\u001b[0m\n",
      "\u001b[92m209: Guess: $31.95 Truth: $29.95 Error: $2.00 SLE: 0.00 Item: 50 Horizontal Stripes Script Thank You C...\u001b[0m\n",
      "\u001b[92m210: Guess: $42.95 Truth: $52.95 Error: $10.00 SLE: 0.04 Item: Parts Player New Window Regulator W/Moto...\u001b[0m\n",
      "\u001b[92m211: Guess: $8.99 Truth: $7.68 Error: $1.31 SLE: 0.02 Item: iExcell 100 Pcs White 4.5mm Cable Tie Mo...\u001b[0m\n",
      "\u001b[92m212: Guess: $34.99 Truth: $59.95 Error: $24.96 SLE: 0.28 Item: Dektite Premium #4 Red Silicone Metal Ro...\u001b[0m\n",
      "\u001b[92m213: Guess: $10.99 Truth: $7.99 Error: $3.00 SLE: 0.08 Item: OSHA Notice Sign - Welding Area Do Not L...\u001b[0m\n",
      "\u001b[92m214: Guess: $29.99 Truth: $17.99 Error: $12.00 SLE: 0.24 Item: RERPRO Gas Cap Cover for Jeep Wrangler J...\u001b[0m\n",
      "\u001b[92m215: Guess: $24.99 Truth: $41.12 Error: $16.13 SLE: 0.23 Item: Walker Products 250-23075 3-Wire Oxygen ...\u001b[0m\n",
      "\u001b[92m216: Guess: $99.99 Truth: $92.99 Error: $7.00 SLE: 0.01 Item: Sunco LED Flush Mount Ceiling Light Fixt...\u001b[0m\n",
      "\u001b[92m217: Guess: $9.99 Truth: $11.55 Error: $1.56 SLE: 0.02 Item: Zahara Laptop SATA HDD Hard Drive Disk C...\u001b[0m\n",
      "\u001b[92m218: Guess: $9.99 Truth: $16.11 Error: $6.12 SLE: 0.20 Item: Mersen GGM3 250V 3A 5X20Mm Fuse, 5-Pack\u001b[0m\n",
      "\u001b[92m219: Guess: $11.99 Truth: $14.95 Error: $2.96 SLE: 0.04 Item: Two Poodle Press Modern Baby Boy Shower ...\u001b[0m\n",
      "\u001b[93m220: Guess: $299.99 Truth: $228.00 Error: $71.99 SLE: 0.07 Item: 101AV 23.6\" 5MP Super HD TVI, AHD, CVI &...\u001b[0m\n",
      "\u001b[92m221: Guess: $19.99 Truth: $21.99 Error: $2.00 SLE: 0.01 Item: SkimBe Best Water Disc & Summer Toy, Ski...\u001b[0m\n",
      "\u001b[92m222: Guess: $52.98 Truth: $39.73 Error: $13.25 SLE: 0.08 Item: HJC Helmets Shield - HJ-09 (Anti-Fog Smo...\u001b[0m\n",
      "\u001b[92m223: Guess: $9.99 Truth: $9.87 Error: $0.12 SLE: 0.00 Item: LEISURE ARTS 7017 Amigurumi Animal Scarv...\u001b[0m\n",
      "\u001b[92m224: Guess: $12.99 Truth: $15.99 Error: $3.00 SLE: 0.04 Item: Areyourshop 10mm M10 Blue Motorcycle Han...\u001b[0m\n",
      "\u001b[92m225: Guess: $22.72 Truth: $14.74 Error: $7.98 SLE: 0.17 Item: Masterpiece Studios Holiday Classic Coll...\u001b[0m\n",
      "\u001b[92m226: Guess: $24.99 Truth: $21.99 Error: $3.00 SLE: 0.02 Item: UL Listed AC Charger Compatible with Asu...\u001b[0m\n",
      "\u001b[92m227: Guess: $79.95 Truth: $79.95 Error: $0.00 SLE: 0.00 Item: TOUGHPRO Floor Mats Set (Front Row + 2nd...\u001b[0m\n",
      "\u001b[93m228: Guess: $39.99 Truth: $107.95 Error: $67.96 SLE: 0.96 Item: Sea Doo 787 800 XP GSX GTX Exhaust Power...\u001b[0m\n",
      "\u001b[93m229: Guess: $249.00 Truth: $179.00 Error: $70.00 SLE: 0.11 Item: Primecooling 3 Row Core Aluminum Radiato...\u001b[0m\n",
      "\u001b[92m230: Guess: $118.01 Truth: $126.50 Error: $8.49 SLE: 0.00 Item: TYC 13078 Radiator Compatible with 2008-...\u001b[0m\n",
      "\u001b[92m231: Guess: $15.99 Truth: $12.99 Error: $3.00 SLE: 0.04 Item: Small Bungee Cords with Hooks, Black Sho...\u001b[0m\n",
      "\u001b[92m232: Guess: $16.99 Truth: $15.99 Error: $1.00 SLE: 0.00 Item: Avezano Horse Birthday Party Backdrop fo...\u001b[0m\n",
      "\u001b[92m233: Guess: $9.99 Truth: $10.00 Error: $0.01 SLE: 0.00 Item: The Clarity Collection 33-Card Mini-Note...\u001b[0m\n",
      "\u001b[92m234: Guess: $49.99 Truth: $45.80 Error: $4.19 SLE: 0.01 Item: LaCyan Rolling Cart Mesh Wire Baskets Tr...\u001b[0m\n",
      "\u001b[92m235: Guess: $22.99 Truth: $5.98 Error: $17.01 SLE: 1.52 Item: Funko Pop! Movies: Black Adam - Hawkman ...\u001b[0m\n",
      "\u001b[93m236: Guess: $149.99 Truth: $99.95 Error: $50.04 SLE: 0.16 Item: Harley-Davidson Men's Gilford 7\" WP BLK ...\u001b[0m\n",
      "\u001b[92m237: Guess: $6.49 Truth: $5.99 Error: $0.50 SLE: 0.00 Item: Cheerin Valentine's Day Cards for Him or...\u001b[0m\n",
      "\u001b[92m238: Guess: $12.99 Truth: $11.97 Error: $1.02 SLE: 0.01 Item: Big, Glitter Happy New Year Banner - 10 ...\u001b[0m\n",
      "\u001b[91m239: Guess: $112.45 Truth: $247.80 Error: $135.35 SLE: 0.62 Item: GEARWRENCH 12 Pc. 1/4\" Drive Metric Open...\u001b[0m\n",
      "\u001b[92m240: Guess: $200.00 Truth: $182.92 Error: $17.08 SLE: 0.01 Item: HP J9775A#ABA HP 2530-48G Switch\u001b[0m\n",
      "\u001b[92m241: Guess: $24.99 Truth: $25.99 Error: $1.00 SLE: 0.00 Item: High Mount 3rd Stop Light Assemblies, Co...\u001b[0m\n",
      "\u001b[92m242: Guess: $5.99 Truth: $6.44 Error: $0.45 SLE: 0.00 Item: ISLE of MAN Greater Coat of Arms Badge C...\u001b[0m\n",
      "\u001b[91m243: Guess: $199.99 Truth: $774.00 Error: $574.01 SLE: 1.82 Item: Quorum International Windmill 44\" Ceilin...\u001b[0m\n",
      "\u001b[92m244: Guess: $24.99 Truth: $49.99 Error: $25.00 SLE: 0.45 Item: MOBIUS Toys Crane Toy Truck Set – Kids C...\u001b[0m\n",
      "\u001b[92m245: Guess: $89.99 Truth: $129.00 Error: $39.01 SLE: 0.13 Item: (2000) Amano MJR-7000 and MJR-8000 Time ...\u001b[0m\n",
      "\u001b[92m246: Guess: $49.99 Truth: $22.99 Error: $27.00 SLE: 0.57 Item: CASEMATIX Waterproof Padded Case Perfect...\u001b[0m\n",
      "\u001b[92m247: Guess: $29.99 Truth: $34.99 Error: $5.00 SLE: 0.02 Item: Chaise Home Organizer Caddy - File Folde...\u001b[0m\n",
      "\u001b[92m248: Guess: $9.30 Truth: $9.30 Error: $0.00 SLE: 0.00 Item: Aokzeeo 10pc of 3/4 Inch Mini Small Roun...\u001b[0m\n",
      "\u001b[92m249: Guess: $12.99 Truth: $9.99 Error: $3.00 SLE: 0.06 Item: ARTDOT Diamond Painting Sticker Kits for...\u001b[0m\n",
      "\u001b[92m250: Guess: $7.49 Truth: $6.99 Error: $0.50 SLE: 0.00 Item: ZCZN Pop-up Sticky Notes 3 x 3 Inches, 4...\u001b[0m\n"
     ]
    },
    {
     "data": {
      "image/png": "[encoded data removed]",
      "text/plain": [
       "<Figure size 1200x800 with 1 Axes>"
      ]
     },
     "metadata": {},
     "output_type": "display_data"
    }
   ],
   "source": [
    "from tester import Tester\n",
    "\n",
    "Tester.test(gpt_4o_mini_rag, test)"
   ]
  }
 ],
 "metadata": {
  "kernelspec": {
   "display_name": "Python 3 (ipykernel)",
   "language": "python",
   "name": "python3"
  },
  "language_info": {
   "codemirror_mode": {
    "name": "ipython",
    "version": 3
   },
   "file_extension": ".py",
   "mimetype": "text/x-python",
   "name": "python",
   "nbconvert_exporter": "python",
   "pygments_lexer": "ipython3",
   "version": "3.11.11"
  }
 },
 "nbformat": 4,
 "nbformat_minor": 2
}
